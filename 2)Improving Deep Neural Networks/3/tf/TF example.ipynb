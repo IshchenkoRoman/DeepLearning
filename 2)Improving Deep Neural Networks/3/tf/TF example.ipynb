{
 "cells": [
  {
   "cell_type": "code",
   "execution_count": 1,
   "metadata": {},
   "outputs": [
    {
     "name": "stderr",
     "output_type": "stream",
     "text": [
      "/home/rishchen/anaconda3/lib/python3.6/site-packages/h5py/__init__.py:34: FutureWarning: Conversion of the second argument of issubdtype from `float` to `np.floating` is deprecated. In future, it will be treated as `np.float64 == np.dtype(float).type`.\n",
      "  from ._conv import register_converters as _register_converters\n"
     ]
    }
   ],
   "source": [
    "import numpy as np\n",
    "import tensorflow as tf"
   ]
  },
  {
   "cell_type": "code",
   "execution_count": 40,
   "metadata": {},
   "outputs": [
    {
     "name": "stdout",
     "output_type": "stream",
     "text": [
      "0.0\n"
     ]
    }
   ],
   "source": [
    "coefficient = np.array([[1.], [-20.], [100.]]) # data (X)\n",
    "\n",
    "w = tf.Variable(0, dtype=tf.float32)\n",
    "x = tf.placeholder(tf.float32, [3,1]) # reserve memory for data\n",
    "\n",
    "cost = tf.add(tf.add(w**2, tf.multiply(-10., w)), 25)\n",
    "cost = w**2 - 10 * w + 25\n",
    "cost = x[0][0] * w ** 2 + x[1][0] * w + x[2][0] # cost fucntion\n",
    "train = tf.train.GradientDescentOptimizer(0.01).minimize(cost) # optimize algorithm grad descent/ ADAM ... \n",
    "\n",
    "init = tf.global_variables_initializer()\n",
    "sess = tf.Session()\n",
    "\n",
    "sess.run(init)\n",
    "print(sess.run(w))"
   ]
  },
  {
   "cell_type": "code",
   "execution_count": 41,
   "metadata": {},
   "outputs": [
    {
     "name": "stdout",
     "output_type": "stream",
     "text": [
      "0.19999999\n"
     ]
    }
   ],
   "source": [
    "sess.run(train, feed_dict={x:coefficient})\n",
    "print(sess.run(w))"
   ]
  },
  {
   "cell_type": "code",
   "execution_count": 42,
   "metadata": {},
   "outputs": [
    {
     "name": "stdout",
     "output_type": "stream",
     "text": [
      "9.999977\n"
     ]
    }
   ],
   "source": [
    "for i in range(1000):\n",
    "    sess.run(train, feed_dict={x:coefficient})\n",
    "print(sess.run(w))"
   ]
  },
  {
   "cell_type": "code",
   "execution_count": 56,
   "metadata": {},
   "outputs": [
    {
     "data": {
      "text/plain": [
       "array([[ 4.96714153, -1.38264301,  6.47688538],\n",
       "       [15.23029856, -2.34153375, -2.34136957],\n",
       "       [15.79212816,  7.67434729, -4.69474386]])"
      ]
     },
     "execution_count": 56,
     "metadata": {},
     "output_type": "execute_result"
    }
   ],
   "source": [
    "np.random.seed(42)\n",
    "par = np.random.randn(3,3) * 10\n",
    "par"
   ]
  },
  {
   "cell_type": "code",
   "execution_count": 74,
   "metadata": {},
   "outputs": [
    {
     "name": "stdout",
     "output_type": "stream",
     "text": [
      "[[ 0.6000021 ]\n",
      " [-0.1670153 ]\n",
      " [ 0.78237045]]\n",
      "[8.278541]\n",
      "[[ 0.9771713 ]\n",
      " [-0.15023208]\n",
      " [-0.15022156]]\n",
      "[15.586109]\n",
      "[[ 0.86889696]\n",
      " [ 0.4222494 ]\n",
      " [-0.25830898]]\n",
      "[18.174915]\n"
     ]
    }
   ],
   "source": [
    "x = tf.placeholder(tf.float32, [3, 1], name=\"Vector\")\n",
    "n = tf.sqrt((x[0] ** 2 + x[1] ** 2 + x[2] ** 2))\n",
    "ans = tf.placeholder(tf.float32, [3, 1], name=\"Ans\")\n",
    "ans = x / n\n",
    "# p = tf.get_variable(ans, shape=(3, 1))\n",
    "# pr = tf.Print(p, [p])\n",
    "            \n",
    "for i in range(par.shape[0]):\n",
    "    print(sess.run(ans, feed_dict={x:par[i].reshape(3,1)}))\n",
    "    print(sess.run(n, feed_dict={x:par[i].reshape(3,1)}))"
   ]
  },
  {
   "cell_type": "code",
   "execution_count": null,
   "metadata": {},
   "outputs": [],
   "source": [
    "\n",
    "    "
   ]
  },
  {
   "cell_type": "code",
   "execution_count": null,
   "metadata": {},
   "outputs": [],
   "source": []
  }
 ],
 "metadata": {
  "kernelspec": {
   "display_name": "Python 3",
   "language": "python",
   "name": "python3"
  },
  "language_info": {
   "codemirror_mode": {
    "name": "ipython",
    "version": 3
   },
   "file_extension": ".py",
   "mimetype": "text/x-python",
   "name": "python",
   "nbconvert_exporter": "python",
   "pygments_lexer": "ipython3",
   "version": "3.6.3"
  }
 },
 "nbformat": 4,
 "nbformat_minor": 2
}
